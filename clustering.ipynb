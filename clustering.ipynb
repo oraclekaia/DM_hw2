{
 "cells": [
  {
   "cell_type": "markdown",
   "metadata": {},
   "source": [
    "# 1. data"
   ]
  },
  {
   "cell_type": "code",
   "execution_count": 57,
   "metadata": {},
   "outputs": [],
   "source": [
    "from sklearn.cluster import KMeans\n",
    "# from sklearn_extra.cluster import KMedoids\n",
    "import pandas as pd\n",
    "import numpy as np\n",
    "import matplotlib.pyplot as plt\n",
    "from sklearn import metrics\n",
    "from sklearn.metrics import silhouette_score\n",
    "\n",
    "import seaborn as sns"
   ]
  },
  {
   "cell_type": "code",
   "execution_count": 61,
   "metadata": {},
   "outputs": [
    {
     "data": {
      "text/html": [
       "<div>\n",
       "<style scoped>\n",
       "    .dataframe tbody tr th:only-of-type {\n",
       "        vertical-align: middle;\n",
       "    }\n",
       "\n",
       "    .dataframe tbody tr th {\n",
       "        vertical-align: top;\n",
       "    }\n",
       "\n",
       "    .dataframe thead th {\n",
       "        text-align: right;\n",
       "    }\n",
       "</style>\n",
       "<table border=\"1\" class=\"dataframe\">\n",
       "  <thead>\n",
       "    <tr style=\"text-align: right;\">\n",
       "      <th></th>\n",
       "      <th>test_date</th>\n",
       "      <th>cough</th>\n",
       "      <th>fever</th>\n",
       "      <th>sore_throat</th>\n",
       "      <th>shortness_of_breath</th>\n",
       "      <th>head_ache</th>\n",
       "      <th>corona_result</th>\n",
       "      <th>age_60_and_above</th>\n",
       "      <th>gender</th>\n",
       "      <th>test_indication</th>\n",
       "    </tr>\n",
       "  </thead>\n",
       "  <tbody>\n",
       "    <tr>\n",
       "      <th>0</th>\n",
       "      <td>2020/3/31</td>\n",
       "      <td>0</td>\n",
       "      <td>0</td>\n",
       "      <td>0</td>\n",
       "      <td>0</td>\n",
       "      <td>0</td>\n",
       "      <td>negative</td>\n",
       "      <td>No</td>\n",
       "      <td>male</td>\n",
       "      <td>Other</td>\n",
       "    </tr>\n",
       "    <tr>\n",
       "      <th>1</th>\n",
       "      <td>2020/3/31</td>\n",
       "      <td>0</td>\n",
       "      <td>0</td>\n",
       "      <td>0</td>\n",
       "      <td>0</td>\n",
       "      <td>0</td>\n",
       "      <td>negative</td>\n",
       "      <td>No</td>\n",
       "      <td>female</td>\n",
       "      <td>Other</td>\n",
       "    </tr>\n",
       "    <tr>\n",
       "      <th>2</th>\n",
       "      <td>2020/3/31</td>\n",
       "      <td>0</td>\n",
       "      <td>0</td>\n",
       "      <td>0</td>\n",
       "      <td>0</td>\n",
       "      <td>0</td>\n",
       "      <td>negative</td>\n",
       "      <td>No</td>\n",
       "      <td>male</td>\n",
       "      <td>Other</td>\n",
       "    </tr>\n",
       "  </tbody>\n",
       "</table>\n",
       "</div>"
      ],
      "text/plain": [
       "   test_date cough fever  sore_throat  shortness_of_breath  head_ache  \\\n",
       "0  2020/3/31     0     0            0                    0          0   \n",
       "1  2020/3/31     0     0            0                    0          0   \n",
       "2  2020/3/31     0     0            0                    0          0   \n",
       "\n",
       "  corona_result age_60_and_above  gender test_indication  \n",
       "0      negative               No    male           Other  \n",
       "1      negative               No  female           Other  \n",
       "2      negative               No    male           Other  "
      ]
     },
     "execution_count": 61,
     "metadata": {},
     "output_type": "execute_result"
    }
   ],
   "source": [
    "metadata=pd.read_csv(\"covid.csv\")\n",
    "metadata.head(3)"
   ]
  },
  {
   "cell_type": "code",
   "execution_count": 62,
   "metadata": {},
   "outputs": [
    {
     "name": "stdout",
     "output_type": "stream",
     "text": [
      "<class 'pandas.core.frame.DataFrame'>\n",
      "RangeIndex: 53843 entries, 0 to 53842\n",
      "Data columns (total 10 columns):\n",
      " #   Column               Non-Null Count  Dtype \n",
      "---  ------               --------------  ----- \n",
      " 0   test_date            53843 non-null  object\n",
      " 1   cough                53843 non-null  object\n",
      " 2   fever                53843 non-null  object\n",
      " 3   sore_throat          53843 non-null  int64 \n",
      " 4   shortness_of_breath  53843 non-null  int64 \n",
      " 5   head_ache            53843 non-null  int64 \n",
      " 6   corona_result        53843 non-null  object\n",
      " 7   age_60_and_above     53843 non-null  object\n",
      " 8   gender               53843 non-null  object\n",
      " 9   test_indication      53843 non-null  object\n",
      "dtypes: int64(3), object(7)\n",
      "memory usage: 4.1+ MB\n"
     ]
    }
   ],
   "source": [
    "metadata.info()"
   ]
  },
  {
   "cell_type": "code",
   "execution_count": 63,
   "metadata": {},
   "outputs": [
    {
     "data": {
      "text/html": [
       "<div>\n",
       "<style scoped>\n",
       "    .dataframe tbody tr th:only-of-type {\n",
       "        vertical-align: middle;\n",
       "    }\n",
       "\n",
       "    .dataframe tbody tr th {\n",
       "        vertical-align: top;\n",
       "    }\n",
       "\n",
       "    .dataframe thead th {\n",
       "        text-align: right;\n",
       "    }\n",
       "</style>\n",
       "<table border=\"1\" class=\"dataframe\">\n",
       "  <thead>\n",
       "    <tr style=\"text-align: right;\">\n",
       "      <th></th>\n",
       "      <th>test_date</th>\n",
       "      <th>cough</th>\n",
       "      <th>fever</th>\n",
       "      <th>sore_throat</th>\n",
       "      <th>shortness_of_breath</th>\n",
       "      <th>head_ache</th>\n",
       "      <th>corona_result</th>\n",
       "      <th>age_60_and_above</th>\n",
       "      <th>gender</th>\n",
       "      <th>test_indication</th>\n",
       "    </tr>\n",
       "  </thead>\n",
       "  <tbody>\n",
       "    <tr>\n",
       "      <th>0</th>\n",
       "      <td>2020/3/31</td>\n",
       "      <td>0</td>\n",
       "      <td>0</td>\n",
       "      <td>0</td>\n",
       "      <td>0</td>\n",
       "      <td>0</td>\n",
       "      <td>0</td>\n",
       "      <td>0</td>\n",
       "      <td>1.0</td>\n",
       "      <td>0</td>\n",
       "    </tr>\n",
       "    <tr>\n",
       "      <th>1</th>\n",
       "      <td>2020/3/31</td>\n",
       "      <td>0</td>\n",
       "      <td>0</td>\n",
       "      <td>0</td>\n",
       "      <td>0</td>\n",
       "      <td>0</td>\n",
       "      <td>0</td>\n",
       "      <td>0</td>\n",
       "      <td>0.0</td>\n",
       "      <td>0</td>\n",
       "    </tr>\n",
       "    <tr>\n",
       "      <th>2</th>\n",
       "      <td>2020/3/31</td>\n",
       "      <td>0</td>\n",
       "      <td>0</td>\n",
       "      <td>0</td>\n",
       "      <td>0</td>\n",
       "      <td>0</td>\n",
       "      <td>0</td>\n",
       "      <td>0</td>\n",
       "      <td>1.0</td>\n",
       "      <td>0</td>\n",
       "    </tr>\n",
       "    <tr>\n",
       "      <th>3</th>\n",
       "      <td>2020/3/31</td>\n",
       "      <td>0</td>\n",
       "      <td>0</td>\n",
       "      <td>0</td>\n",
       "      <td>0</td>\n",
       "      <td>0</td>\n",
       "      <td>1</td>\n",
       "      <td>0</td>\n",
       "      <td>0.0</td>\n",
       "      <td>0</td>\n",
       "    </tr>\n",
       "    <tr>\n",
       "      <th>4</th>\n",
       "      <td>2020/3/31</td>\n",
       "      <td>1</td>\n",
       "      <td>0</td>\n",
       "      <td>0</td>\n",
       "      <td>0</td>\n",
       "      <td>0</td>\n",
       "      <td>0</td>\n",
       "      <td>0</td>\n",
       "      <td>1.0</td>\n",
       "      <td>2</td>\n",
       "    </tr>\n",
       "    <tr>\n",
       "      <th>...</th>\n",
       "      <td>...</td>\n",
       "      <td>...</td>\n",
       "      <td>...</td>\n",
       "      <td>...</td>\n",
       "      <td>...</td>\n",
       "      <td>...</td>\n",
       "      <td>...</td>\n",
       "      <td>...</td>\n",
       "      <td>...</td>\n",
       "      <td>...</td>\n",
       "    </tr>\n",
       "    <tr>\n",
       "      <th>53838</th>\n",
       "      <td>2020/3/22</td>\n",
       "      <td>1</td>\n",
       "      <td>1</td>\n",
       "      <td>0</td>\n",
       "      <td>0</td>\n",
       "      <td>0</td>\n",
       "      <td>0</td>\n",
       "      <td>1</td>\n",
       "      <td>0.0</td>\n",
       "      <td>2</td>\n",
       "    </tr>\n",
       "    <tr>\n",
       "      <th>53839</th>\n",
       "      <td>2020/3/22</td>\n",
       "      <td>1</td>\n",
       "      <td>1</td>\n",
       "      <td>1</td>\n",
       "      <td>0</td>\n",
       "      <td>1</td>\n",
       "      <td>0</td>\n",
       "      <td>0</td>\n",
       "      <td>0.0</td>\n",
       "      <td>2</td>\n",
       "    </tr>\n",
       "    <tr>\n",
       "      <th>53840</th>\n",
       "      <td>2020/3/22</td>\n",
       "      <td>1</td>\n",
       "      <td>0</td>\n",
       "      <td>0</td>\n",
       "      <td>0</td>\n",
       "      <td>0</td>\n",
       "      <td>0</td>\n",
       "      <td>0</td>\n",
       "      <td>0.0</td>\n",
       "      <td>2</td>\n",
       "    </tr>\n",
       "    <tr>\n",
       "      <th>53841</th>\n",
       "      <td>2020/3/22</td>\n",
       "      <td>1</td>\n",
       "      <td>0</td>\n",
       "      <td>0</td>\n",
       "      <td>0</td>\n",
       "      <td>0</td>\n",
       "      <td>0</td>\n",
       "      <td>0</td>\n",
       "      <td>1.0</td>\n",
       "      <td>0</td>\n",
       "    </tr>\n",
       "    <tr>\n",
       "      <th>53842</th>\n",
       "      <td>2020/3/22</td>\n",
       "      <td>1</td>\n",
       "      <td>0</td>\n",
       "      <td>0</td>\n",
       "      <td>0</td>\n",
       "      <td>0</td>\n",
       "      <td>0</td>\n",
       "      <td>0</td>\n",
       "      <td>1.0</td>\n",
       "      <td>0</td>\n",
       "    </tr>\n",
       "  </tbody>\n",
       "</table>\n",
       "<p>53843 rows × 10 columns</p>\n",
       "</div>"
      ],
      "text/plain": [
       "       test_date cough fever  sore_throat  shortness_of_breath  head_ache  \\\n",
       "0      2020/3/31     0     0            0                    0          0   \n",
       "1      2020/3/31     0     0            0                    0          0   \n",
       "2      2020/3/31     0     0            0                    0          0   \n",
       "3      2020/3/31     0     0            0                    0          0   \n",
       "4      2020/3/31     1     0            0                    0          0   \n",
       "...          ...   ...   ...          ...                  ...        ...   \n",
       "53838  2020/3/22     1     1            0                    0          0   \n",
       "53839  2020/3/22     1     1            1                    0          1   \n",
       "53840  2020/3/22     1     0            0                    0          0   \n",
       "53841  2020/3/22     1     0            0                    0          0   \n",
       "53842  2020/3/22     1     0            0                    0          0   \n",
       "\n",
       "       corona_result  age_60_and_above  gender  test_indication  \n",
       "0                  0                 0     1.0                0  \n",
       "1                  0                 0     0.0                0  \n",
       "2                  0                 0     1.0                0  \n",
       "3                  1                 0     0.0                0  \n",
       "4                  0                 0     1.0                2  \n",
       "...              ...               ...     ...              ...  \n",
       "53838              0                 1     0.0                2  \n",
       "53839              0                 0     0.0                2  \n",
       "53840              0                 0     0.0                2  \n",
       "53841              0                 0     1.0                0  \n",
       "53842              0                 0     1.0                0  \n",
       "\n",
       "[53843 rows x 10 columns]"
      ]
     },
     "execution_count": 63,
     "metadata": {},
     "output_type": "execute_result"
    }
   ],
   "source": [
    "metadata['cough']=metadata['cough'].replace(to_replace='None',value=np.nan)\n",
    "metadata['fever']=metadata['fever'].replace('None',np.nan)\n",
    "metadata['sore_throat']=metadata['sore_throat'].replace('None',np.nan)\n",
    "metadata['shortness_of_breath']=metadata['shortness_of_breath'].replace('None',np.nan)\n",
    "metadata['head_ache']=metadata['head_ache'].replace('None',np.nan)\n",
    "metadata['gender']=metadata['gender'].replace(['female', 'male', 'None'], [0, 1, np.nan])\n",
    "metadata['age_60_and_above']=metadata['age_60_and_above'].replace(['None', 'No', 'Yes'], [np.nan, 0 ,1])\n",
    "metadata['test_indication']=metadata['test_indication'].replace(['Contact with confirmed', 'Other', 'Abroad'], [1, 0, 2])\n",
    "metadata['corona_result']=metadata['corona_result'].replace(['negative', 'positive', 'other'], [0, 1, 2])\n",
    "\n",
    "metadata"
   ]
  },
  {
   "cell_type": "code",
   "execution_count": 64,
   "metadata": {},
   "outputs": [
    {
     "name": "stdout",
     "output_type": "stream",
     "text": [
      "<class 'pandas.core.frame.DataFrame'>\n",
      "RangeIndex: 53843 entries, 0 to 53842\n",
      "Data columns (total 10 columns):\n",
      " #   Column               Non-Null Count  Dtype  \n",
      "---  ------               --------------  -----  \n",
      " 0   test_date            53843 non-null  object \n",
      " 1   cough                53827 non-null  object \n",
      " 2   fever                53826 non-null  object \n",
      " 3   sore_throat          53843 non-null  int64  \n",
      " 4   shortness_of_breath  53843 non-null  int64  \n",
      " 5   head_ache            53843 non-null  int64  \n",
      " 6   corona_result        53843 non-null  int64  \n",
      " 7   age_60_and_above     53843 non-null  int64  \n",
      " 8   gender               52649 non-null  float64\n",
      " 9   test_indication      53843 non-null  int64  \n",
      "dtypes: float64(1), int64(6), object(3)\n",
      "memory usage: 4.1+ MB\n"
     ]
    }
   ],
   "source": [
    "metadata.info()"
   ]
  },
  {
   "cell_type": "code",
   "execution_count": 65,
   "metadata": {},
   "outputs": [],
   "source": [
    "metadata[\"cough\"] = pd.to_numeric(metadata[\"cough\"])\n",
    "metadata[\"fever\"] = pd.to_numeric(metadata[\"fever\"])"
   ]
  },
  {
   "cell_type": "code",
   "execution_count": 66,
   "metadata": {},
   "outputs": [
    {
     "name": "stdout",
     "output_type": "stream",
     "text": [
      "<class 'pandas.core.frame.DataFrame'>\n",
      "RangeIndex: 53843 entries, 0 to 53842\n",
      "Data columns (total 10 columns):\n",
      " #   Column               Non-Null Count  Dtype  \n",
      "---  ------               --------------  -----  \n",
      " 0   test_date            53843 non-null  object \n",
      " 1   cough                53827 non-null  float64\n",
      " 2   fever                53826 non-null  float64\n",
      " 3   sore_throat          53843 non-null  int64  \n",
      " 4   shortness_of_breath  53843 non-null  int64  \n",
      " 5   head_ache            53843 non-null  int64  \n",
      " 6   corona_result        53843 non-null  int64  \n",
      " 7   age_60_and_above     53843 non-null  int64  \n",
      " 8   gender               52649 non-null  float64\n",
      " 9   test_indication      53843 non-null  int64  \n",
      "dtypes: float64(3), int64(6), object(1)\n",
      "memory usage: 4.1+ MB\n"
     ]
    }
   ],
   "source": [
    "metadata.info()"
   ]
  },
  {
   "cell_type": "code",
   "execution_count": 67,
   "metadata": {},
   "outputs": [],
   "source": [
    "metadata[\"cough\"]=metadata[\"cough\"].astype('Int64')\n",
    "metadata[\"fever\"]=metadata[\"fever\"].astype('Int64')\n",
    "metadata['sore_throat']=metadata['sore_throat'].astype('Int64')\n",
    "metadata['shortness_of_breath']=metadata['shortness_of_breath'].astype('Int64')\n",
    "metadata['head_ache']=metadata['head_ache'].astype('Int64')\n",
    "metadata['gender']=metadata['gender'].astype('Int64')\n",
    "metadata['age_60_and_above']=metadata['age_60_and_above'].astype('Int64')\n",
    "metadata['test_indication']=metadata['test_indication'].astype('Int64')\n",
    "metadata['corona_result']=metadata['corona_result'].astype('Int64')"
   ]
  },
  {
   "cell_type": "code",
   "execution_count": 68,
   "metadata": {},
   "outputs": [
    {
     "name": "stdout",
     "output_type": "stream",
     "text": [
      "<class 'pandas.core.frame.DataFrame'>\n",
      "RangeIndex: 53843 entries, 0 to 53842\n",
      "Data columns (total 10 columns):\n",
      " #   Column               Non-Null Count  Dtype \n",
      "---  ------               --------------  ----- \n",
      " 0   test_date            53843 non-null  object\n",
      " 1   cough                53827 non-null  Int64 \n",
      " 2   fever                53826 non-null  Int64 \n",
      " 3   sore_throat          53843 non-null  Int64 \n",
      " 4   shortness_of_breath  53843 non-null  Int64 \n",
      " 5   head_ache            53843 non-null  Int64 \n",
      " 6   corona_result        53843 non-null  Int64 \n",
      " 7   age_60_and_above     53843 non-null  Int64 \n",
      " 8   gender               52649 non-null  Int64 \n",
      " 9   test_indication      53843 non-null  Int64 \n",
      "dtypes: Int64(9), object(1)\n",
      "memory usage: 4.6+ MB\n"
     ]
    }
   ],
   "source": [
    "metadata.info()"
   ]
  },
  {
   "cell_type": "code",
   "execution_count": 69,
   "metadata": {},
   "outputs": [
    {
     "data": {
      "text/plain": [
       "test_date              0\n",
       "cough                  0\n",
       "fever                  0\n",
       "sore_throat            0\n",
       "shortness_of_breath    0\n",
       "head_ache              0\n",
       "corona_result          0\n",
       "age_60_and_above       0\n",
       "gender                 0\n",
       "test_indication        0\n",
       "dtype: int64"
      ]
     },
     "execution_count": 69,
     "metadata": {},
     "output_type": "execute_result"
    }
   ],
   "source": [
    "df=metadata.copy()\n",
    "df.dropna(inplace=True)\n",
    "df.isna().sum()"
   ]
  },
  {
   "cell_type": "code",
   "execution_count": 70,
   "metadata": {},
   "outputs": [],
   "source": [
    "# 移除 class 與 日期\n",
    "X=df.drop(labels=[\"test_date\", \"corona_result\"], axis=1).values\n",
    "y=df[\"corona_result\"]"
   ]
  },
  {
   "cell_type": "markdown",
   "metadata": {},
   "source": [
    "# 2. KMeans"
   ]
  },
  {
   "cell_type": "code",
   "execution_count": 71,
   "metadata": {},
   "outputs": [],
   "source": [
    "random_state=2022"
   ]
  },
  {
   "cell_type": "code",
   "execution_count": 72,
   "metadata": {},
   "outputs": [],
   "source": [
    "kmeans_list = [KMeans(n_clusters=k, random_state=random_state).fit(X)\n",
    "                for k in range(1, 30)]\n",
    "silhouette_scores = [silhouette_score(X, model.labels_)\n",
    "                     for model in kmeans_list[1:]]"
   ]
  },
  {
   "cell_type": "code",
   "execution_count": 73,
   "metadata": {},
   "outputs": [
    {
     "data": {
      "image/png": "[encoded data removed]",
      "text/plain": [
       "<Figure size 576x216 with 1 Axes>"
      ]
     },
     "metadata": {
      "needs_background": "light"
     },
     "output_type": "display_data"
    }
   ],
   "source": [
    "plt.figure(figsize=(8, 3))\n",
    "plt.plot(range(2, 30), silhouette_scores, \"bo-\")\n",
    "plt.xlabel(\"$k$\", fontsize=14)\n",
    "plt.ylabel(\"Silhouette score\", fontsize=14)\n",
    "\n",
    "plt.show()"
   ]
  },
  {
   "cell_type": "code",
   "execution_count": 74,
   "metadata": {},
   "outputs": [
    {
     "data": {
      "text/plain": [
       "[53369.275725794425,\n",
       " 31865.928929711634,\n",
       " 20492.769490864506,\n",
       " 16341.219291670302,\n",
       " 14601.067993712048,\n",
       " 12102.099435182354,\n",
       " 10637.821631338997,\n",
       " 9848.424824859938,\n",
       " 8900.902997531517,\n",
       " 8417.480329757092,\n",
       " 8083.033394316422,\n",
       " 7336.322111240494,\n",
       " 6937.336095980592,\n",
       " 6596.045800736656,\n",
       " 6102.4959981147895,\n",
       " 5924.996181458756,\n",
       " 5628.839027116808,\n",
       " 5326.06554417955,\n",
       " 5065.414893733537,\n",
       " 4851.94905072491,\n",
       " 4639.551253823035,\n",
       " 4457.522077378909,\n",
       " 4287.007796811196,\n",
       " 4052.217764641235,\n",
       " 3906.653898589033,\n",
       " 3825.57862586862,\n",
       " 3726.988823051178,\n",
       " 3562.4582745610805,\n",
       " 3361.719527997161]"
      ]
     },
     "execution_count": 74,
     "metadata": {},
     "output_type": "execute_result"
    }
   ],
   "source": [
    "inertias = [model.inertia_ for model in kmeans_list]\n",
    "inertias"
   ]
  },
  {
   "cell_type": "code",
   "execution_count": 75,
   "metadata": {},
   "outputs": [
    {
     "data": {
      "image/png": "[encoded data removed]",
      "text/plain": [
       "<Figure size 576x252 with 1 Axes>"
      ]
     },
     "metadata": {
      "needs_background": "light"
     },
     "output_type": "display_data"
    }
   ],
   "source": [
    "plt.figure(figsize=(8, 3.5))\n",
    "plt.plot(range(1, 30), inertias, \"bo-\")\n",
    "plt.xlabel(\"$k$\", fontsize=14)\n",
    "plt.ylabel(\"Inertia\", fontsize=14)\n",
    "# plt.annotate('Elbow',\n",
    "#              xy=(3, inertias[3]),\n",
    "#              xytext=(0.55, 0.55),\n",
    "#              textcoords='figure fraction',\n",
    "#              fontsize=16,\n",
    "#              arrowprops=dict(facecolor='black', shrink=0.1)\n",
    "#             )\n",
    "# plt.axis([1, 8.5, 0, 1300])\n",
    "\n",
    "plt.show()"
   ]
  },
  {
   "cell_type": "code",
   "execution_count": 76,
   "metadata": {},
   "outputs": [],
   "source": [
    "# KMeans 演算法\n",
    "kmeans = KMeans(n_clusters = 5, random_state=random_state)\n",
    "clusters_pred = kmeans.fit_predict(X)"
   ]
  },
  {
   "cell_type": "markdown",
   "metadata": {},
   "source": [
    "inertia: within cluster sum of squres, 各sample到各該群的centroid的距離之平方和，用來評估cluster的成效，越大代表越差"
   ]
  },
  {
   "cell_type": "code",
   "execution_count": 77,
   "metadata": {},
   "outputs": [
    {
     "data": {
      "text/plain": [
       "14601.067993712048"
      ]
     },
     "execution_count": 77,
     "metadata": {},
     "output_type": "execute_result"
    }
   ],
   "source": [
    "kmeans.inertia_"
   ]
  },
  {
   "cell_type": "markdown",
   "metadata": {},
   "source": [
    "查看各cluster的中心，並在圖上畫出"
   ]
  },
  {
   "cell_type": "code",
   "execution_count": 78,
   "metadata": {},
   "outputs": [
    {
     "data": {
      "text/plain": [
       "array([[ 5.09641873e-02,  2.97418631e-02,  7.70329558e-03,\n",
       "         5.10152025e-03,  1.04581165e-02,  2.16493490e-15,\n",
       "         2.83106871e-15,  1.98959290e-02],\n",
       "       [ 5.35611038e-02,  3.92115637e-02,  7.09592641e-03,\n",
       "         5.78186597e-03,  1.20893561e-02,  1.94289029e-15,\n",
       "         1.00000000e+00,  2.23390276e-02],\n",
       "       [ 7.73426374e-01,  4.15835944e-01,  6.73597266e-02,\n",
       "         5.19794930e-02,  9.64112788e-02,  1.16206209e-01,\n",
       "         5.25918542e-01,  1.71219026e+00],\n",
       "       [ 7.70552850e-02,  8.82268691e-02,  8.30707534e-03,\n",
       "         1.17444858e-02,  1.26038384e-02,  1.00000000e+00,\n",
       "         1.00000000e+00,  3.20824979e-02],\n",
       "       [ 8.13287514e-02,  6.04238259e-02,  8.59106529e-03,\n",
       "         1.00229095e-02,  1.00229095e-02,  1.00000000e+00,\n",
       "        -9.99200722e-16,  3.89461627e-02]])"
      ]
     },
     "execution_count": 78,
     "metadata": {},
     "output_type": "execute_result"
    }
   ],
   "source": [
    "kmeans.cluster_centers_"
   ]
  },
  {
   "cell_type": "code",
   "execution_count": 79,
   "metadata": {},
   "outputs": [
    {
     "name": "stderr",
     "output_type": "stream",
     "text": [
      "c:\\Users\\betty\\anaconda3\\lib\\site-packages\\seaborn\\_decorators.py:36: FutureWarning: Pass the following variables as keyword args: x, y. From version 0.12, the only valid positional argument will be `data`, and passing other arguments without an explicit keyword will result in an error or misinterpretation.\n",
      "  warnings.warn(\n"
     ]
    },
    {
     "data": {
      "image/png": "[encoded data removed]",
      "text/plain": [
       "<Figure size 360x360 with 1 Axes>"
      ]
     },
     "metadata": {
      "needs_background": "light"
     },
     "output_type": "display_data"
    }
   ],
   "source": [
    "sns.lmplot(\"cough\", \"test_indication\", hue='corona_result', data=df, fit_reg=False, legend=False)\n",
    "plt.legend(title='target', loc='upper left', labels=['negative', 'other', 'positive'])\n",
    "plt.show()"
   ]
  },
  {
   "cell_type": "code",
   "execution_count": 80,
   "metadata": {},
   "outputs": [
    {
     "name": "stderr",
     "output_type": "stream",
     "text": [
      "c:\\Users\\betty\\anaconda3\\lib\\site-packages\\seaborn\\_decorators.py:36: FutureWarning: Pass the following variables as keyword args: x, y. From version 0.12, the only valid positional argument will be `data`, and passing other arguments without an explicit keyword will result in an error or misinterpretation.\n",
      "  warnings.warn(\n"
     ]
    },
    {
     "data": {
      "image/png": "[encoded data removed]",
      "text/plain": [
       "<Figure size 360x360 with 1 Axes>"
      ]
     },
     "metadata": {
      "needs_background": "light"
     },
     "output_type": "display_data"
    }
   ],
   "source": [
    "df['Predict']=clusters_pred\n",
    "sns.lmplot(\"cough\", \"test_indication\", data=df, hue=\"Predict\", fit_reg=False, legend=False)\n",
    "plt.scatter(kmeans.cluster_centers_[:, 2], kmeans.cluster_centers_[:, 3], s=200,c=\"r\",marker='*')\n",
    "plt.legend(title='target', loc='upper left', labels=['negative', 'other', 'positive'])\n",
    "plt.show()"
   ]
  }
 ],
 "metadata": {
  "interpreter": {
   "hash": "1ac2a29da03b632ee33fde117f94867371383b79744d5e100b9ea1ab63786e44"
  },
  "kernelspec": {
   "display_name": "Python 3.8.8 ('base')",
   "language": "python",
   "name": "python3"
  },
  "language_info": {
   "codemirror_mode": {
    "name": "ipython",
    "version": 3
   },
   "file_extension": ".py",
   "mimetype": "text/x-python",
   "name": "python",
   "nbconvert_exporter": "python",
   "pygments_lexer": "ipython3",
   "version": "3.8.8"
  },
  "orig_nbformat": 4
 },
 "nbformat": 4,
 "nbformat_minor": 2
}
